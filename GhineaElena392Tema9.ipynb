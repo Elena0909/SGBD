{
 "cells": [
  {
   "cell_type": "code",
   "execution_count": 1,
   "id": "8eb3cb98",
   "metadata": {},
   "outputs": [
    {
     "name": "stdout",
     "output_type": "stream",
     "text": [
      "Requirement already satisfied: mysqlclient in c:\\users\\ghinea\\anaconda3\\lib\\site-packages (2.1.0)\n",
      "Note: you may need to restart the kernel to use updated packages.\n"
     ]
    }
   ],
   "source": [
    "pip install mysqlclient"
   ]
  },
  {
   "cell_type": "code",
   "execution_count": 2,
   "id": "b8cbef79",
   "metadata": {},
   "outputs": [
    {
     "name": "stdout",
     "output_type": "stream",
     "text": [
      "Requirement already satisfied: mysql-connector-python in c:\\users\\ghinea\\anaconda3\\lib\\site-packages (8.0.29)\n",
      "Requirement already satisfied: protobuf>=3.0.0 in c:\\users\\ghinea\\anaconda3\\lib\\site-packages (from mysql-connector-python) (3.20.1)\n",
      "Note: you may need to restart the kernel to use updated packages.\n"
     ]
    }
   ],
   "source": [
    "pip install mysql-connector-python"
   ]
  },
  {
   "cell_type": "code",
   "execution_count": 1,
   "id": "2bb7c8b2",
   "metadata": {},
   "outputs": [],
   "source": [
    "'define all the operations with DB connection using MySQLdb package'\n",
    "import MySQLdb\n",
    "\n",
    "class Query:\n",
    "\t\"\"\" \n",
    "\tThe Query class abstracts all operations with the database\n",
    "\t\"\"\"\n",
    "\n",
    "\tdef __init__(self, db, table):\n",
    "\t\t\"\"\"\n",
    "\t\tconstructor, stores inside connection and table\n",
    "\t\t\tdb: created database connection\n",
    "\t\t\ttable: table name\n",
    "\t\t\"\"\"\n",
    "\t\tself.db = db\n",
    "\t\tself.cursor = db.cursor()\n",
    "\t\tself.table = table\n",
    "\n",
    "\tdef execute(self, sql):\n",
    "\t\t\"\"\"\n",
    "\t\texecutes the given query\n",
    "\t\t\tsql: query, as a string\n",
    "\t\t\"\"\"\n",
    "\t\ttry:\n",
    "\t\t\tself.cursor.execute(sql)\n",
    "\t\t\tself.db.commit()\t\t\n",
    "\t\texcept:\n",
    "\t\t\tself.db.rollback()\n",
    "\t\t\tprint (\"execution of '%s' failed\" % sql)\n",
    "\t\t\traise\n",
    "\n",
    "\tdef drop(self):\n",
    "\t\t'drops table'\n",
    "\t\tsql = \"DROP TABLE IF EXISTS \" + self.table\n",
    "\t\tself.execute(sql)\n",
    "\n",
    "\tdef create(self, attrs):\n",
    "\t\t\"\"\"\n",
    "\t\tcreates table with specified attributes\n",
    "\t\t\tattrs: the attributes\n",
    "\t\t\"\"\"\n",
    "\t\tsql = \"CREATE TABLE \" + self.table + \" (\" + attrs + \")\"\n",
    "\t\tself.execute(sql)\n",
    "\n",
    "\tdef insert(self, attrs, val):\n",
    "\t\tsql = \"INSERT INTO \" + self.table + \" (\" + attrs + \") VALUES (\" + val + \")\"\n",
    "\t\tself.execute(sql)\n",
    "\n",
    "\tdef insertlist(self, attrs, vals):\n",
    "\t\ttry:\n",
    "\t\t\tfor val in vals:\n",
    "\t\t\t\tsql = \"INSERT INTO \" + self.table + \" (\" + attrs + \") VALUES (\" + val + \")\"\n",
    "\t\t\t\tself.cursor.execute(sql)\n",
    "\t\t\tdb.commit()\n",
    "\t\texcept:\n",
    "\t\t\tdb.rollback()\n"
   ]
  },
  {
   "cell_type": "code",
   "execution_count": 13,
   "id": "6dc6c4ef",
   "metadata": {},
   "outputs": [],
   "source": [
    "import mysql.connector\n",
    "\n",
    "'open database connection'\n",
    "db = mysql.connector.connect(host=\"localhost\",user=\"root\",password=\"1q2w3e\",database=\"userdb\")\n",
    "\n",
    "'create Elev table'\n",
    "e = Query(db, \"Elev\")\n",
    "e.drop()\n",
    "attrs = \"eId int, nume text\"\n",
    "e.create(attrs)\n",
    "\n",
    "'insert rows'\n",
    "vals = []\n",
    "attrs = \"eId, nume\"\n",
    "vals = []\n",
    "vals += [\"1, 'Inoel'\"]\n",
    "vals += [\"2, 'Diana'\"]\n",
    "vals += [\"3, 'Vasile'\"]\n",
    "vals += [\"4, 'Costel'\"]\n",
    "vals += [\"5, 'George'\"]\n",
    "vals += [\"6, 'Anca'\"]\n",
    "e.insertlist(attrs, vals)\n",
    "\n",
    "'create Profesor table'\n",
    "p = Query(db, \"Profesor\")\n",
    "p.drop()\n",
    "attrs = \"pId int, nume text, materie text\"\n",
    "p.create(attrs)\n",
    "\n",
    "\n",
    "'insert rows'\n",
    "vals = []\n",
    "attrs = \"pId, nume, materie\"\n",
    "vals = []\n",
    "vals += [\"1, 'Popescu', 'geografie'\"]\n",
    "vals += [\"2, 'Manoliu', 'matematica'\"]\n",
    "vals += [\"3, 'Petrescu', 'romana'\"]\n",
    "p.insertlist(attrs, vals)\n",
    "\n",
    "\n",
    "'create Catalog table'\n",
    "c = Query(db, \"Catalog\")\n",
    "c.drop()\n",
    "attrs = \"eId int, pId int, data date, nota int\"\n",
    "c.create(attrs)\n",
    "\n",
    "\n",
    "'insert rows'\n",
    "vals = []\n",
    "attrs = \"eId, pId, data, nota\"\n",
    "vals = []\n",
    "vals += [\"1, 1, '2022-04-20', 7\"]\n",
    "vals += [\"2, 1, '2022-04-20', 9\"]\n",
    "vals += [\"3, 2, '2022-04-20', 4\"]\n",
    "vals += [\"2, 2, '2022-04-20', 10\"]\n",
    "vals += [\"4, 2, '2022-04-20', 8\"]\n",
    "vals += [\"1, 3, '2022-04-21', 8\"]\n",
    "vals += [\"2, 3, '2022-04-21', 8\"]\n",
    "vals += [\"3, 3, '2022-04-21', 8\"]\n",
    "vals += [\"4, 3, '2022-04-21', 8\"]\n",
    "vals += [\"6, 3, '2022-04-21', 8\"]\n",
    "vals += [\"1, 2, '2022-04-22', 8\"]\n",
    "vals += [\"1, 1, '2022-04-22', 8\"]\n",
    "vals += [\"2, 2, '2022-04-22', 10\"]\n",
    "vals += [\"2, 1, '2022-04-22', 10\"]\n",
    "vals += [\"6, 2, '2022-04-22', 9\"]\n",
    "vals += [\"6, 1, '2022-04-22', 9\"]\n",
    "\n",
    "c.insertlist(attrs, vals)"
   ]
  },
  {
   "cell_type": "code",
   "execution_count": 3,
   "id": "55199b5c",
   "metadata": {},
   "outputs": [],
   "source": [
    "def execute_query(query):\n",
    "    cursor = db.cursor()\n",
    "    cursor.execute(query)\n",
    "    result = cursor.fetchall()\n",
    "    for row in result:\n",
    "        print(row)"
   ]
  },
  {
   "cell_type": "code",
   "execution_count": 4,
   "id": "cf93fcf2",
   "metadata": {},
   "outputs": [
    {
     "name": "stdout",
     "output_type": "stream",
     "text": [
      "(1, 'Inoel')\n",
      "(2, 'Diana')\n",
      "(3, 'Vasile')\n",
      "(4, 'Costel')\n",
      "(5, 'George')\n",
      "(6, 'Anca')\n"
     ]
    }
   ],
   "source": [
    "execute_query(\"SELECT * FROM Elev\")"
   ]
  },
  {
   "cell_type": "code",
   "execution_count": 5,
   "id": "c1c78dac",
   "metadata": {},
   "outputs": [
    {
     "name": "stdout",
     "output_type": "stream",
     "text": [
      "(1, 'Popescu', 'geografie')\n",
      "(2, 'Manoliu', 'matematica')\n",
      "(3, 'Petrescu', 'romana')\n"
     ]
    }
   ],
   "source": [
    "execute_query(\"SELECT * FROM Profesor\")"
   ]
  },
  {
   "cell_type": "code",
   "execution_count": 6,
   "id": "af4bd6e9",
   "metadata": {},
   "outputs": [
    {
     "name": "stdout",
     "output_type": "stream",
     "text": [
      "('Inoel', 'geografie', datetime.date(2022, 4, 22), 8)\n",
      "('Inoel', 'matematica', datetime.date(2022, 4, 22), 8)\n",
      "('Inoel', 'romana', datetime.date(2022, 4, 21), 8)\n",
      "('Inoel', 'geografie', datetime.date(2022, 4, 20), 7)\n",
      "('Diana', 'geografie', datetime.date(2022, 4, 22), 10)\n",
      "('Diana', 'matematica', datetime.date(2022, 4, 22), 10)\n",
      "('Diana', 'romana', datetime.date(2022, 4, 21), 8)\n",
      "('Diana', 'matematica', datetime.date(2022, 4, 20), 10)\n",
      "('Diana', 'geografie', datetime.date(2022, 4, 20), 9)\n",
      "('Vasile', 'romana', datetime.date(2022, 4, 21), 8)\n",
      "('Vasile', 'matematica', datetime.date(2022, 4, 20), 4)\n",
      "('Costel', 'romana', datetime.date(2022, 4, 21), 8)\n",
      "('Costel', 'matematica', datetime.date(2022, 4, 20), 8)\n",
      "('Anca', 'geografie', datetime.date(2022, 4, 22), 9)\n",
      "('Anca', 'matematica', datetime.date(2022, 4, 22), 9)\n",
      "('Anca', 'romana', datetime.date(2022, 4, 21), 8)\n"
     ]
    }
   ],
   "source": [
    "execute_query(\"select elev.nume, materie, data, nota from elev, catalog, profesor \\\n",
    "                where elev.eid=catalog.eid and catalog.pId=profesor.pid\")"
   ]
  },
  {
   "cell_type": "markdown",
   "id": "496be178",
   "metadata": {},
   "source": [
    "<h4>Problema 5</h4>\n",
    "Gasiti elevii care au mai mult de o singura nota si calculati-le mediile\n",
    "la acele materii (la care au mai mult de o singura nota). Afisati\n",
    "numele elevului, materia si media acestuia. Ordonati dupa numele\n",
    "elevului apoi dupa materie."
   ]
  },
  {
   "cell_type": "code",
   "execution_count": 7,
   "id": "d80638ab",
   "metadata": {},
   "outputs": [
    {
     "name": "stdout",
     "output_type": "stream",
     "text": [
      "('Diana', 'geografie', Decimal('9.50'))\n",
      "('Diana', 'matematica', Decimal('10.00'))\n",
      "('Inoel', 'geografie', Decimal('7.50'))\n"
     ]
    }
   ],
   "source": [
    "query=\"select elev.nume, materie, cast(avg(c1.nota) as decimal(10,2)) \\\n",
    "        from catalog as c1, catalog as c2, elev, profesor \\\n",
    "        where c1.eid=elev.eid and profesor.pId=c1.pId \\\n",
    "        and c2.eid=elev.eid and profesor.pId=c2.pId \\\n",
    "        and c1.data<>c2.data \\\n",
    "        group by elev.nume, c1.pid \\\n",
    "        order by elev.nume, c1.pid;\"\n",
    "execute_query(query)"
   ]
  },
  {
   "cell_type": "markdown",
   "id": "12e64b11",
   "metadata": {},
   "source": [
    "<h4>Problema 6</h4>\n",
    "Calculati mediile pentru toti elevii, pentru fiecare materie in parte.\n",
    "Daca un elev nu are nota, media sa va fi 0. Afisati numele elevului,\n",
    "materia si media sa. Ordonati dupa numele elevului apoi dupa\n",
    "materie.\n"
   ]
  },
  {
   "cell_type": "code",
   "execution_count": 15,
   "id": "f45b1463",
   "metadata": {},
   "outputs": [
    {
     "name": "stdout",
     "output_type": "stream",
     "text": [
      "('Anca', 'geografie', Decimal('9.00'))\n",
      "('Anca', 'matematica', Decimal('9.00'))\n",
      "('Anca', 'romana', Decimal('8.00'))\n",
      "('Costel', 'geografie', Decimal('0.00'))\n",
      "('Costel', 'matematica', Decimal('8.00'))\n",
      "('Costel', 'romana', Decimal('8.00'))\n",
      "('Diana', 'geografie', Decimal('9.50'))\n",
      "('Diana', 'matematica', Decimal('10.00'))\n",
      "('Diana', 'romana', Decimal('8.00'))\n",
      "('George', 'geografie', Decimal('0.00'))\n",
      "('George', 'matematica', Decimal('0.00'))\n",
      "('George', 'romana', Decimal('0.00'))\n",
      "('Inoel', 'geografie', Decimal('7.50'))\n",
      "('Inoel', 'matematica', Decimal('8.00'))\n",
      "('Inoel', 'romana', Decimal('8.00'))\n",
      "('Vasile', 'geografie', Decimal('0.00'))\n",
      "('Vasile', 'matematica', Decimal('4.00'))\n",
      "('Vasile', 'romana', Decimal('8.00'))\n"
     ]
    }
   ],
   "source": [
    "query=\"select elev.nume, materie, 0 as media from\\\n",
    "       elev, profesor\\\n",
    "       where (elev.nume, materie) not in\\\n",
    "       (select elev.nume, materie\\\n",
    "       from  catalog, elev,  profesor\\\n",
    "       where catalog.eID = elev.eID \\\n",
    "       and catalog.pID = profesor.pID\\\n",
    "       group by catalog.pID, catalog.eId)\\\n",
    "       union\\\n",
    "       (select elev.nume, materie, cast(avg(nota) as decimal(10,2)) as media\\\n",
    "       from  catalog, elev, profesor\\\n",
    "       where catalog.eID = elev.eID \\\n",
    "       and catalog.pID = profesor.pID\\\n",
    "       group by catalog.pID, catalog.eId)\\\n",
    "       order by nume,materie;\" \n",
    "execute_query(query)"
   ]
  },
  {
   "cell_type": "markdown",
   "id": "bb511358",
   "metadata": {},
   "source": [
    "<h4>Problema 7</h4>\n",
    "Calculati media generala a fiecarui elev. Atentie la elevii care nu au\n",
    "note la anumite materii, acele materii nu intra la nota. Daca un elev\n",
    "nu are nici o nota, media sa generala va fi 0. Afisati numele elevului\n",
    "si media, ordonat dupa nume."
   ]
  },
  {
   "cell_type": "code",
   "execution_count": 14,
   "id": "6f27015c",
   "metadata": {},
   "outputs": [
    {
     "name": "stdout",
     "output_type": "stream",
     "text": [
      "('Anca', Decimal('8.67'))\n",
      "('Costel', Decimal('8.00'))\n",
      "('Diana', Decimal('9.17'))\n",
      "('George', Decimal('0.00'))\n",
      "('Inoel', Decimal('7.83'))\n",
      "('Vasile', Decimal('6.00'))\n"
     ]
    }
   ],
   "source": [
    "query=\"select nume, cast(avg(media) as decimal(10,2)) as media_generala from\\\n",
    "       (select elev.nume, materie, avg(nota) as media\\\n",
    "       from  catalog, elev, profesor\\\n",
    "       where catalog.eID = elev.eID \\\n",
    "       and catalog.pID = profesor.pID\\\n",
    "       group by catalog.pID, catalog.eId) m\\\n",
    "       group by nume\\\n",
    "       union\\\n",
    "       select nume, 0 from elev where eid not in (select eid from catalog)\\\n",
    "       order by nume\"\n",
    "execute_query(query)"
   ]
  },
  {
   "cell_type": "markdown",
   "id": "595c40ff",
   "metadata": {},
   "source": [
    "<h4>Problema 8</h4>\n",
    "Calculati media generala pentru acea scoala, incluzand si elevii care\n",
    "au media generala 0."
   ]
  },
  {
   "cell_type": "code",
   "execution_count": 10,
   "id": "9a4f8119",
   "metadata": {},
   "outputs": [
    {
     "name": "stdout",
     "output_type": "stream",
     "text": [
      "(Decimal('6.61'),)\n"
     ]
    }
   ],
   "source": [
    "query=\"select cast(avg(media_generala) as decimal(10,2)) as medie \\\n",
    "      from\\\n",
    "      (select nume, avg(media) as media_generala from\\\n",
    "      (select elev.nume, materie, avg(nota) as media\\\n",
    "      from  catalog, elev, profesor\\\n",
    "      where catalog.eID = elev.eID \\\n",
    "      and catalog.pID = profesor.pID\\\n",
    "      group by catalog.pID, catalog.eId) m\\\n",
    "      group by nume\\\n",
    "      union\\\n",
    "      select nume, 0 from elev where eid not in (select eid from catalog)\\\n",
    "      order by nume) h\"\n",
    "execute_query(query)"
   ]
  },
  {
   "cell_type": "code",
   "execution_count": 11,
   "id": "8021fb07",
   "metadata": {},
   "outputs": [],
   "source": [
    "'disconnect from the database'\n",
    "db.close()"
   ]
  }
 ],
 "metadata": {
  "kernelspec": {
   "display_name": "Python 3 (ipykernel)",
   "language": "python",
   "name": "python3"
  },
  "language_info": {
   "codemirror_mode": {
    "name": "ipython",
    "version": 3
   },
   "file_extension": ".py",
   "mimetype": "text/x-python",
   "name": "python",
   "nbconvert_exporter": "python",
   "pygments_lexer": "ipython3",
   "version": "3.9.7"
  }
 },
 "nbformat": 4,
 "nbformat_minor": 5
}
